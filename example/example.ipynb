{
 "cells": [
  {
   "attachments": {},
   "cell_type": "markdown",
   "metadata": {},
   "source": [
    "## Creating a `Dataset` object from text files"
   ]
  },
  {
   "cell_type": "code",
   "execution_count": 1,
   "metadata": {},
   "outputs": [
    {
     "name": "stderr",
     "output_type": "stream",
     "text": [
      "/home/tbverhey/miniconda3/lib/python3.9/site-packages/anndata/utils.py:143: UserWarning: X converted to numpy array with dtype float64\n",
      "  warnings.warn(f\"{name} converted to numpy array with dtype {arr.dtype}\")\n",
      "/home/tbverhey/github/cNMF-SNS/src/cnmfsns/core.py:109: FutureWarning: X.dtype being converted to np.float32 from float64. In the next version of anndata (0.9) conversion will not be automatic. Pass dtype explicitly to avoid this warning. Pass `AnnData(X, dtype=X.dtype, ...)` to get the future behavour.\n",
      "  adata = ad.AnnData(X=data, obs=obs, var=var, uns=uns)\n"
     ]
    }
   ],
   "source": [
    "import pandas as pd\n",
    "import cnmfsns as cn\n",
    "\n",
    "data = pd.read_table(\"diamandis_data/diamandis_nobulk.txt\", index_col=0)  # normalized expression data\n",
    "metadata = pd.read_table(\"diamandis_data/diamandis_nobulk.metadata.txt\", index_col=0)  # sample metadata\n",
    "\n",
    "# create dataset from DataFrames\n",
    "dataset = cn.Dataset.from_df(data=data, obs=metadata, is_normalized=True)\n"
   ]
  },
  {
   "attachments": {},
   "cell_type": "markdown",
   "metadata": {},
   "source": [
    "## Reading an writing `Dataset` objects"
   ]
  },
  {
   "cell_type": "code",
   "execution_count": 2,
   "metadata": {},
   "outputs": [],
   "source": [
    "dataset.write_h5ad(\"diamandis.h5ad\")  # write to .h5ad file\n",
    "\n",
    "dataset = cn.Dataset.from_h5ad(\"diamandis.h5ad\")  # read from .h5ad file "
   ]
  },
  {
   "attachments": {},
   "cell_type": "markdown",
   "metadata": {},
   "source": [
    "cNMF-SNS can recognize AnnData .h5ad files whether they are created in [Seurat](https://satijalab.org/seurat/archive/v2.4/conversion_vignette.html), [scanpy](https://scanpy.readthedocs.io/en/stable/usage-principles.html#anndata), or other single-cell software tools."
   ]
  },
  {
   "cell_type": "code",
   "execution_count": 3,
   "metadata": {},
   "outputs": [],
   "source": [
    "import scanpy\n",
    "\n",
    "pbmc = scanpy.datasets.pbmc3k()\n",
    "pbmc_dataset = cn.Dataset.from_anndata(pbmc)"
   ]
  },
  {
   "attachments": {},
   "cell_type": "markdown",
   "metadata": {},
   "source": [
    "## Working with `Dataset` objects\n",
    "\n",
    "For those interfacing with Scanpy or other tools, you can directly access the AnnData object like this:"
   ]
  },
  {
   "cell_type": "code",
   "execution_count": 4,
   "metadata": {},
   "outputs": [
    {
     "ename": "AttributeError",
     "evalue": "module 'cnmfsns' has no attribute 'cnmf'",
     "output_type": "error",
     "traceback": [
      "\u001b[0;31m---------------------------------------------------------------------------\u001b[0m",
      "\u001b[0;31mAttributeError\u001b[0m                            Traceback (most recent call last)",
      "Cell \u001b[0;32mIn[4], line 1\u001b[0m\n\u001b[0;32m----> 1\u001b[0m dataset\u001b[39m.\u001b[39;49mcompute_gene_stats()\n",
      "File \u001b[0;32m~/github/cNMF-SNS/src/cnmfsns/core.py:251\u001b[0m, in \u001b[0;36mDataset.compute_gene_stats\u001b[0;34m(self, odg_default_spline_degree, odg_default_dof, minimum_mean)\u001b[0m\n\u001b[1;32m    247\u001b[0m \u001b[39mself\u001b[39m\u001b[39m.\u001b[39madata\u001b[39m.\u001b[39mvar[\u001b[39m\"\u001b[39m\u001b[39mgam_fittedvalues\u001b[39m\u001b[39m\"\u001b[39m] \u001b[39m=\u001b[39m gam\u001b[39m.\u001b[39mfittedvalues\n\u001b[1;32m    250\u001b[0m \u001b[39m# model mean-variance relationship using cNMF's method based on v-score and minimum expression threshold\u001b[39;00m\n\u001b[0;32m--> 251\u001b[0m vscore_stats \u001b[39m=\u001b[39m pd\u001b[39m.\u001b[39mDataFrame(cn\u001b[39m.\u001b[39;49mcnmf\u001b[39m.\u001b[39mget_highvar_genes(input_counts\u001b[39m=\u001b[39mdata_normalized\u001b[39m.\u001b[39mvalues, minimal_mean\u001b[39m=\u001b[39m\u001b[39m0\u001b[39m)[\u001b[39m0\u001b[39m])\n\u001b[1;32m    252\u001b[0m vscore_stats\u001b[39m.\u001b[39mindex \u001b[39m=\u001b[39m data_normalized\u001b[39m.\u001b[39mcolumns\n\u001b[1;32m    253\u001b[0m \u001b[39mself\u001b[39m\u001b[39m.\u001b[39madata\u001b[39m.\u001b[39mvar[\u001b[39m\"\u001b[39m\u001b[39mvscore\u001b[39m\u001b[39m\"\u001b[39m] \u001b[39m=\u001b[39m vscore_stats[\u001b[39m\"\u001b[39m\u001b[39mfano_ratio\u001b[39m\u001b[39m\"\u001b[39m]\n",
      "\u001b[0;31mAttributeError\u001b[0m: module 'cnmfsns' has no attribute 'cnmf'"
     ]
    }
   ],
   "source": [
    "dataset.compute_gene_stats()"
   ]
  },
  {
   "cell_type": "code",
   "execution_count": null,
   "metadata": {},
   "outputs": [
    {
     "data": {
      "text/plain": [
       "['__name__',\n",
       " '__doc__',\n",
       " '__package__',\n",
       " '__loader__',\n",
       " '__spec__',\n",
       " '__file__',\n",
       " '__cached__',\n",
       " '__builtins__',\n",
       " 'np',\n",
       " 'logging',\n",
       " 'pd',\n",
       " 'sns',\n",
       " 'plt',\n",
       " 'ECDF',\n",
       " 'Line2D',\n",
       " 'Patch',\n",
       " 'cn',\n",
       " 'odg_plots',\n",
       " 'fetch_hgnc_protein_coding_genes']"
      ]
     },
     "execution_count": 10,
     "metadata": {},
     "output_type": "execute_result"
    }
   ],
   "source": [
    "cn.odg.__dir__()"
   ]
  },
  {
   "cell_type": "code",
   "execution_count": 6,
   "metadata": {},
   "outputs": [
    {
     "data": {
      "text/plain": [
       "<module 'cnmfsns.odg' from '/home/tbverhey/github/cNMF-SNS/src/cnmfsns/odg.py'>"
      ]
     },
     "execution_count": 6,
     "metadata": {},
     "output_type": "execute_result"
    }
   ],
   "source": [
    "import cnmfsns as cn"
   ]
  }
 ],
 "metadata": {
  "kernelspec": {
   "display_name": "base",
   "language": "python",
   "name": "python3"
  },
  "language_info": {
   "codemirror_mode": {
    "name": "ipython",
    "version": 3
   },
   "file_extension": ".py",
   "mimetype": "text/x-python",
   "name": "python",
   "nbconvert_exporter": "python",
   "pygments_lexer": "ipython3",
   "version": "3.9.12"
  },
  "orig_nbformat": 4,
  "vscode": {
   "interpreter": {
    "hash": "9f2c27474c7abce15ce2de26253b3bc28b06f2c77c123d7ab6b2ed057829ac7d"
   }
  }
 },
 "nbformat": 4,
 "nbformat_minor": 2
}
