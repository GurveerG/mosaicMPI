{
 "cells": [
  {
   "cell_type": "code",
   "execution_count": null,
   "metadata": {},
   "outputs": [],
   "source": [
    "import mosaicmpi as cn\n",
    "cn.start_logging()"
   ]
  },
  {
   "attachments": {},
   "cell_type": "markdown",
   "metadata": {},
   "source": [
    "## Working with `Dataset` objects\n",
    "\n",
    "Datasets can be created from pandas DataFrames quite easily."
   ]
  },
  {
   "cell_type": "code",
   "execution_count": null,
   "metadata": {},
   "outputs": [],
   "source": [
    "import pandas as pd\n",
    "\n",
    "rna_data = pd.read_table(\"cptac_data/cptac_RNA.txt\", index_col=0)\n",
    "rna_metadata = pd.read_table(\"cptac_data/cptac_RNA.metadata.txt\", index_col=0)  # sample metadata\n",
    "\n",
    "# create dataset from DataFrames\n",
    "rna = cn.Dataset.from_df(data=rna_data, obs=rna_metadata, is_normalized=True, patient_id_col=\"patient_id\")"
   ]
  },
  {
   "attachments": {},
   "cell_type": "markdown",
   "metadata": {},
   "source": [
    "They can be written to and read from AnnData files (h5ad format)."
   ]
  },
  {
   "cell_type": "code",
   "execution_count": null,
   "metadata": {},
   "outputs": [],
   "source": [
    "# write to .h5ad file\n",
    "rna.write_h5ad(\"rna.h5ad\")\n",
    "# read from .h5ad file\n",
    "rna = cn.Dataset.from_h5ad(\"rna.h5ad\")"
   ]
  },
  {
   "attachments": {},
   "cell_type": "markdown",
   "metadata": {},
   "source": [
    "`Dataset` objects contain an AnnData object which can also be used for interfacing with other tools"
   ]
  },
  {
   "cell_type": "code",
   "execution_count": null,
   "metadata": {},
   "outputs": [],
   "source": [
    "rna.adata"
   ]
  },
  {
   "attachments": {},
   "cell_type": "markdown",
   "metadata": {},
   "source": [
    "mosaicMPI can recognize and import AnnData .h5ad files whether they are created in [Seurat](https://satijalab.org/seurat/archive/v2.4/conversion_vignette.html), [scanpy](https://scanpy.readthedocs.io/en/stable/usage-principles.html#anndata), or other single-cell software tools."
   ]
  },
  {
   "cell_type": "code",
   "execution_count": null,
   "metadata": {},
   "outputs": [],
   "source": [
    "import scanpy\n",
    "\n",
    "pbmc_adata = scanpy.datasets.pbmc3k()\n",
    "pbmc_dataset = cn.Dataset(pbmc_adata)"
   ]
  },
  {
   "attachments": {},
   "cell_type": "markdown",
   "metadata": {},
   "source": [
    "## Selecting overdispersed genes"
   ]
  },
  {
   "cell_type": "code",
   "execution_count": null,
   "metadata": {},
   "outputs": [],
   "source": [
    "# calculates overdispersion for each gene\n",
    "rna.compute_gene_stats(odg_default_spline_degree=3, odg_default_dof=30)  # calculates gene statistics and stores in the Dataset object\n",
    "\n",
    "# thresholds for gene overdispersion\n",
    "rna.select_overdispersed_genes(overdispersion_metric=\"odscore\", min_score=1)\n",
    "fig = cn.plot_feature_dispersion(rna, show_selected=True)"
   ]
  },
  {
   "attachments": {},
   "cell_type": "markdown",
   "metadata": {},
   "source": [
    "Default parameters for `select_overdispersed_genes()` results in about 40-50% of genes as being overdispersed:"
   ]
  },
  {
   "cell_type": "code",
   "execution_count": null,
   "metadata": {},
   "outputs": [],
   "source": [
    "rna.adata.var[\"selected\"].value_counts()"
   ]
  },
  {
   "attachments": {},
   "cell_type": "markdown",
   "metadata": {},
   "source": [
    "## Factorization"
   ]
  },
  {
   "cell_type": "code",
   "execution_count": null,
   "metadata": {},
   "outputs": [],
   "source": [
    "cnmf_results_dir = \"cnmf_results\"\n",
    "run_name = \"rna\"\n",
    "# by default, k=2-60 is run with n_iter=200. For this demo, we will speed it up by drastically subsetting.\n",
    "kvals = [2, 3 ,4, 5, 6, 7, 8]\n",
    "n_iter = 10\n",
    "\n",
    "cnmf_run = rna.initialize_cnmf(cnmf_output_dir=cnmf_results_dir, cnmf_name=run_name, kvals=kvals, n_iter=n_iter)\n",
    "\n",
    "\n",
    "# these steps take long\n",
    "\n",
    "cnmf_run.factorize(verbose=False)\n",
    "cnmf_run.postprocess()\n",
    "\n",
    "# Merges cNMF results into the `Dataset` object\n",
    "rna.add_cnmf_results(cnmf_output_dir=cnmf_results_dir, cnmf_name=run_name)\n",
    "rna.write_h5ad(\"rna.h5ad\")  # overwrite original file"
   ]
  },
  {
   "attachments": {},
   "cell_type": "markdown",
   "metadata": {},
   "source": [
    "## Stability-Error Plot"
   ]
  },
  {
   "cell_type": "code",
   "execution_count": null,
   "metadata": {},
   "outputs": [],
   "source": [
    "fig = cn.plot_stability_error(rna, figsize=[4,3])\n",
    "\n",
    "fig.savefig(\"rna_stability-error.pdf\")  # Save figures in PDF or PNG format"
   ]
  },
  {
   "attachments": {},
   "cell_type": "markdown",
   "metadata": {},
   "source": [
    "## Accessing program usage values"
   ]
  },
  {
   "cell_type": "markdown",
   "metadata": {},
   "source": [
    "Get dataframe with usage of each program across samples"
   ]
  },
  {
   "cell_type": "code",
   "execution_count": null,
   "metadata": {},
   "outputs": [],
   "source": [
    "rna.get_usages().head()"
   ]
  },
  {
   "cell_type": "markdown",
   "metadata": {},
   "source": [
    "# Plotting program usages in a heatmap"
   ]
  },
  {
   "cell_type": "code",
   "execution_count": null,
   "metadata": {},
   "outputs": [],
   "source": [
    "colors = cn.Colors.from_dataset(rna, pastel_factor=0.4)  # create distinct colors for metadata tracks\n",
    "\n",
    "\n",
    "fig = cn.plot_usage_heatmap(rna, k=6, colors=colors,\n",
    "                                     title=\"CPTAC RNA dataset, k=6 Program usage\")\n",
    "fig.savefig(\"k6_usages_heatmap.pdf\")\n",
    "\n",
    "fig_legend = colors.plot_metadata_colors_legend()\n",
    "fig.savefig(\"rna_metadata_colors_legend.pdf\")"
   ]
  },
  {
   "attachments": {},
   "cell_type": "markdown",
   "metadata": {},
   "source": [
    "## Factorize the proteomics data"
   ]
  },
  {
   "cell_type": "code",
   "execution_count": null,
   "metadata": {},
   "outputs": [],
   "source": [
    "data = pd.read_csv(\"cptac_data/cptac_protein.csv\", index_col=0).T  # normalized expression data\n",
    "metadata = pd.read_table(\"cptac_data/cptac_protein.metadata.txt\", index_col=0)  # sample metadata\n",
    "\n",
    "# create dataset from CPTAC example data\n",
    "protein = cn.Dataset.from_df(data=data, obs=metadata, is_normalized=True, patient_id_col = \"patient_id\")\n",
    "protein.compute_gene_stats()\n",
    "protein.select_overdispersed_genes()\n",
    "\n",
    "# creates directory with cNMF results\n",
    "cnmf_results_dir = \"cnmf_results\"\n",
    "run_name = \"protein\"\n",
    "cnmf_run = protein.initialize_cnmf(cnmf_output_dir=cnmf_results_dir, cnmf_name=run_name, kvals=kvals, n_iter=n_iter)\n",
    "cnmf_run.factorize(verbose=False)\n",
    "cnmf_run.postprocess()\n",
    "\n",
    "# Merges cNMF results into the `Dataset` object\n",
    "protein.add_cnmf_results(cnmf_output_dir=cnmf_results_dir, cnmf_name=run_name)\n",
    "protein.write_h5ad(\"protein.h5ad\")  # write to h5ad file"
   ]
  },
  {
   "cell_type": "markdown",
   "metadata": {},
   "source": [
    "## Factorize the snRNA data"
   ]
  },
  {
   "cell_type": "code",
   "execution_count": null,
   "metadata": {},
   "outputs": [],
   "source": [
    "# Note that the snRNA data has been subsetted for the purposes of this tutorial\n",
    "data = pd.read_table(\"cptac_data\\cptac_snRNA_subsampled.txt\", index_col=0, sep=\"\\t\")  # normalized counts\n",
    "metadata = pd.read_table(\"cptac_data/cptac_snRNA_subsampled.metadata.txt\", index_col=0)  # sample metadata\n",
    "\n",
    "# create dataset from CPTAC example data\n",
    "snrna = cn.Dataset.from_df(data=data, obs=metadata, is_normalized=True, patient_id_col = \"patient\")\n",
    "snrna.compute_gene_stats()\n",
    "snrna.select_overdispersed_genes()\n",
    "\n",
    "# creates directory with cNMF results\n",
    "cnmf_results_dir = \"cnmf_results\"\n",
    "run_name = \"snrna\"\n",
    "cnmf_run = snrna.initialize_cnmf(cnmf_output_dir=cnmf_results_dir, cnmf_name=run_name, kvals=kvals, n_iter=n_iter)\n",
    "cnmf_run.factorize(verbose=False)\n",
    "cnmf_run.postprocess()\n",
    "\n",
    "# Merges cNMF results into the `Dataset` object\n",
    "snrna.add_cnmf_results(cnmf_output_dir=cnmf_results_dir, cnmf_name=run_name)\n",
    "snrna.write_h5ad(\"snrna.h5ad\")  # write to h5ad file"
   ]
  },
  {
   "attachments": {},
   "cell_type": "markdown",
   "metadata": {},
   "source": [
    "## Integrate multiple datasets together"
   ]
  },
  {
   "cell_type": "code",
   "execution_count": null,
   "metadata": {},
   "outputs": [],
   "source": [
    "datasets = {\"RNA\": rna, \"Protein\": protein, \"snRNA\": snrna}\n",
    "integration = cn.Integration(datasets=datasets)  # create an integration object\n",
    "colors = cn.Colors.from_integration(integration)  # create color scheme for metadata and datasets\n",
    "colors.to_toml(\"colors.toml\")  # save to file for reference (TOML file can be re-imported)"
   ]
  },
  {
   "attachments": {},
   "cell_type": "markdown",
   "metadata": {},
   "source": [
    "Identify feature overlap between datasets"
   ]
  },
  {
   "cell_type": "code",
   "execution_count": null,
   "metadata": {},
   "outputs": [],
   "source": [
    "cn.plot_features_upset(integration)"
   ]
  },
  {
   "attachments": {},
   "cell_type": "markdown",
   "metadata": {},
   "source": [
    "A subset of these are identified as overdispersed in each dataset, and there is a significant overlap between datasets, indicating similar variation is seen in the two separate datasets."
   ]
  },
  {
   "cell_type": "code",
   "execution_count": null,
   "metadata": {},
   "outputs": [],
   "source": [
    "cn.plot_overdispersed_features_upset(integration)"
   ]
  },
  {
   "cell_type": "code",
   "execution_count": null,
   "metadata": {},
   "outputs": [],
   "source": [
    "# plot the correlation matrix of all programs to each other\n",
    "fig = cn.plot_gep_correlation_matrix(integration, colors=colors, figsize=[6, 6], hide_gep_labels=True)\n",
    "fig.savefig(\"correlation_matrix.pdf\")\n",
    "\n",
    "# plot the legend separately as it applies to multiple figures\n",
    "figlegend = colors.plot_dataset_colors_legend()\n",
    "figlegend.savefig(\"datasets_legend.pdf\")"
   ]
  },
  {
   "attachments": {},
   "cell_type": "markdown",
   "metadata": {},
   "source": [
    "To see if the `max_median_corr` threshold removed any ranks from either of the datasets, the following plot can be generated. The x-axis is the max-k, a threshold that excludes ranks above. The y-axis is the median of the correlation coefficients for all non-self edges in the correlation network. As this this threshold is slowly increased, the number of ranks, and thus nodes, and thus edges increases. The correlation between all edges slowly increases. In some datasets, this median of correlations will exceed 0 at high ranks. These high ranks will be excluded by this filter."
   ]
  },
  {
   "attachments": {},
   "cell_type": "markdown",
   "metadata": {},
   "source": [
    "You can easily see for each rank whether there is a cNMF result, the stability/error of the result, as well as whether the ranks will be excluded on the basis of a max-k filter (derived from the max_median_corr parameter). You can also see which ranks will be selected (selected_k) based on automatic node subsetting for the final SNS maps."
   ]
  },
  {
   "cell_type": "code",
   "execution_count": null,
   "metadata": {},
   "outputs": [],
   "source": [
    "integration.k_table"
   ]
  },
  {
   "cell_type": "code",
   "execution_count": null,
   "metadata": {},
   "outputs": [],
   "source": [
    "fig = cn.plot_rank_reduction(integration)"
   ]
  },
  {
   "attachments": {},
   "cell_type": "markdown",
   "metadata": {},
   "source": [
    "You can see that no k-values exceeded the threshold, so no max_k filter was applied. Now, let's plot the distribution of correlations for programs within and between datasets. This will show the min_corr thresholds. There is one threshold per dataset pair, and one threshold for within each dataset."
   ]
  },
  {
   "cell_type": "code",
   "execution_count": null,
   "metadata": {},
   "outputs": [],
   "source": [
    "# fig = cn.plot_pairwise_corr(integration)\n",
    "fig2 = cn.plot_pairwise_corr_overlaid(integration)  # overlaid plots show the mirrored distributions"
   ]
  },
  {
   "attachments": {},
   "cell_type": "markdown",
   "metadata": {},
   "source": [
    "See the number of nodes from each dataset with and without the node filters (including maxk and selectedk filters) and the edge filter (min_corr thresholds)."
   ]
  },
  {
   "cell_type": "code",
   "execution_count": null,
   "metadata": {},
   "outputs": [],
   "source": [
    "integration.get_node_table()"
   ]
  },
  {
   "cell_type": "markdown",
   "metadata": {},
   "source": [
    "As you can see, for this tutorial, since we chose low ranks at the beginning, no nodes were excluded due to node and edge filters."
   ]
  },
  {
   "attachments": {},
   "cell_type": "markdown",
   "metadata": {},
   "source": [
    "## Create an SNS integration"
   ]
  },
  {
   "cell_type": "code",
   "execution_count": null,
   "metadata": {},
   "outputs": [],
   "source": [
    "snsmap = cn.SNS(integration)\n",
    "snsmap.community_search(algorithm=\"greedy_modularity\", resolution=1)\n",
    "fig = cn.plot_community_by_dataset_rank(snsmap, colors, figsize=[8, 3])"
   ]
  },
  {
   "attachments": {},
   "cell_type": "markdown",
   "metadata": {},
   "source": [
    "## Optional: prune communities with at least 2 datasets"
   ]
  },
  {
   "cell_type": "code",
   "execution_count": null,
   "metadata": {},
   "outputs": [],
   "source": [
    "snsmap.prune_communities(min_datasets = 2)  # can also filter communities by number of nodes in total (min_nodes) and number of nodes per dataset (min_nodes_per_dataset)\n",
    "fig = cn.plot_community_by_dataset_rank(snsmap, colors, figsize=[7, 2])"
   ]
  },
  {
   "attachments": {},
   "cell_type": "markdown",
   "metadata": {},
   "source": [
    "## Save SNS object and underlying data"
   ]
  },
  {
   "cell_type": "code",
   "execution_count": null,
   "metadata": {},
   "outputs": [],
   "source": [
    "snsmap.to_pkl(\"sns.pkl\")\n",
    "\n",
    "# to read it back, use this\n",
    "snsmap = cn.SNS.from_pkl(\"sns.pkl\")"
   ]
  },
  {
   "attachments": {},
   "cell_type": "markdown",
   "metadata": {},
   "source": [
    "# Plot an SNS Map"
   ]
  },
  {
   "cell_type": "code",
   "execution_count": null,
   "metadata": {},
   "outputs": [],
   "source": [
    "snsmap.compute_layout(algorithm=\"neato\", community_layout_algorithm=\"spring\")  # available algorithms: \"community_weighted_spring\", \"spring\", \"neato\"\n",
    "fig = cn.plot_gep_network_datasets(snsmap, colors, node_size_kval=False)"
   ]
  },
  {
   "attachments": {},
   "cell_type": "markdown",
   "metadata": {},
   "source": [
    "How many samples have each GEP/node as their highest usage GEP? "
   ]
  },
  {
   "cell_type": "code",
   "execution_count": null,
   "metadata": {},
   "outputs": [],
   "source": [
    "fig = cn.plot_gep_network_nsamples(snsmap,\n",
    "                                  colors,\n",
    "                                  node_size=1e3,\n",
    "                                  font_size=12,\n",
    "                                  discretize=True)"
   ]
  },
  {
   "attachments": {},
   "cell_type": "markdown",
   "metadata": {},
   "source": [
    "How many patients is each GEP primarily associated to?"
   ]
  },
  {
   "cell_type": "code",
   "execution_count": null,
   "metadata": {},
   "outputs": [],
   "source": [
    "fig = cn.plot_gep_network_npatients(snsmap, colors, node_size=1e3, font_size=12)"
   ]
  },
  {
   "attachments": {},
   "cell_type": "markdown",
   "metadata": {},
   "source": [
    "Overrepresentation of sample categories for each program, based on the Protein dataset"
   ]
  },
  {
   "cell_type": "code",
   "execution_count": null,
   "metadata": {},
   "outputs": [],
   "source": [
    "fig = cn.plots.plot_overrepresentation_gep_network(snsmap, colors, subset_datasets=\"RNA\", layer=\"simple_category\", pie_size=0.2)\n",
    "fig.savefig(\"rna_tumor-normal_overrepresentation.pdf\")"
   ]
  },
  {
   "attachments": {},
   "cell_type": "markdown",
   "metadata": {},
   "source": [
    "And again, using the CPTAC annotations"
   ]
  },
  {
   "cell_type": "code",
   "execution_count": null,
   "metadata": {},
   "outputs": [],
   "source": [
    "fig = cn.plot_overrepresentation_gep_network(snsmap, colors, subset_datasets=\"snRNA\", layer=\"CellType\")\n",
    "fig.savefig(\"snRNA_celltype_overrepresentation.pdf\")"
   ]
  },
  {
   "attachments": {},
   "cell_type": "markdown",
   "metadata": {},
   "source": [
    "You can also look at continuous metadata correlated with GEP usage, like estimated tumor purity (from bulk RNA and Protein datasets):"
   ]
  },
  {
   "cell_type": "code",
   "execution_count": null,
   "metadata": {},
   "outputs": [],
   "source": [
    "fig = cn.plot_metadata_correlation_gep_network(snsmap, colors, layer='purity_TSNet')"
   ]
  },
  {
   "cell_type": "markdown",
   "metadata": {},
   "source": [
    "Note, that grey nodes have no \"purity_TSNet\" annotation track (these are the snRNA-Seq programs).\n",
    "\n",
    "We can also look at correlation with percent mitochondrial reads in snRNA-Seq data:"
   ]
  },
  {
   "cell_type": "code",
   "execution_count": null,
   "metadata": {},
   "outputs": [],
   "source": [
    "fig = cn.plot_metadata_correlation_gep_network(snsmap, colors, layer='percent.mt')"
   ]
  },
  {
   "attachments": {},
   "cell_type": "markdown",
   "metadata": {},
   "source": [
    "# Identifying GEP Communities"
   ]
  },
  {
   "cell_type": "code",
   "execution_count": null,
   "metadata": {},
   "outputs": [],
   "source": [
    "colors.add_missing_community_colors(snsmap)\n",
    "fig = cn.plot_gep_network_communities(snsmap, colors)"
   ]
  },
  {
   "attachments": {},
   "cell_type": "markdown",
   "metadata": {},
   "source": [
    "Plot a summary showing the size of each community (node size) and number of edges connecting communities (edge width)."
   ]
  },
  {
   "cell_type": "code",
   "execution_count": null,
   "metadata": {},
   "outputs": [],
   "source": [
    "fig = cn.plot_summary_community_network(snsmap, colors)"
   ]
  },
  {
   "attachments": {},
   "cell_type": "markdown",
   "metadata": {},
   "source": [
    "Plot program usage heatmap summarized by Community"
   ]
  },
  {
   "cell_type": "code",
   "execution_count": null,
   "metadata": {},
   "outputs": [],
   "source": [
    "snsmap.integration.get_metadata_df()"
   ]
  },
  {
   "cell_type": "code",
   "execution_count": null,
   "metadata": {},
   "outputs": [],
   "source": [
    "fig = cn.plot_community_usage_heatmap(snsmap, colors, subset_datasets=['RNA', 'Protein'], prepend_dataset_colors=True, show_sample_labels=False)\n",
    "fig_legend = colors.plot_metadata_colors_legend()"
   ]
  },
  {
   "attachments": {},
   "cell_type": "markdown",
   "metadata": {},
   "source": [
    "## Correlate categorical variables with usage of individual programs, grouped by community"
   ]
  },
  {
   "cell_type": "code",
   "execution_count": null,
   "metadata": {},
   "outputs": [],
   "source": [
    "fig = cn.plot_overrepresentation_gep_bar(snsmap, colors, dataset_name=\"RNA\")\n",
    "# fig_legend = colors.plot_metadata_colors_legend()"
   ]
  },
  {
   "attachments": {},
   "cell_type": "markdown",
   "metadata": {},
   "source": [
    "## Correlate programs in each community with continuous variables"
   ]
  },
  {
   "cell_type": "code",
   "execution_count": null,
   "metadata": {},
   "outputs": [],
   "source": [
    "fig = cn.plot_metadata_correlation_gep_bar(snsmap, colors, dataset_name=\"snRNA\")"
   ]
  },
  {
   "attachments": {},
   "cell_type": "markdown",
   "metadata": {},
   "source": [
    "# Community-level summary of overrepresentation"
   ]
  },
  {
   "cell_type": "code",
   "execution_count": null,
   "metadata": {},
   "outputs": [],
   "source": [
    "fig = cn.plot_overrepresentation_community_bar(snsmap, colors, layer=\"CellType\", subset_datasets=\"snRNA\")"
   ]
  },
  {
   "attachments": {},
   "cell_type": "markdown",
   "metadata": {},
   "source": [
    "Or, plot it on the network:"
   ]
  },
  {
   "cell_type": "code",
   "execution_count": null,
   "metadata": {},
   "outputs": [],
   "source": [
    "fig = cn.plot_overrepresentation_community_network(snsmap, colors, layer='CellType', subset_datasets=\"snRNA\")"
   ]
  },
  {
   "attachments": {},
   "cell_type": "markdown",
   "metadata": {},
   "source": [
    "# Summarizing correlation with metadata"
   ]
  },
  {
   "cell_type": "code",
   "execution_count": null,
   "metadata": {},
   "outputs": [],
   "source": [
    "fig = cn.plot_metadata_correlation_community_bar(snsmap, colors, layer='purity_TSNet', subset_datasets=\"RNA\", figsize=[2, 3])"
   ]
  },
  {
   "attachments": {},
   "cell_type": "markdown",
   "metadata": {},
   "source": [
    "Or, plot it on the network:"
   ]
  },
  {
   "cell_type": "code",
   "execution_count": null,
   "metadata": {},
   "outputs": [],
   "source": [
    "fig = cn.plot_metadata_correlation_community_network(snsmap, colors, layer='purity_TSNet', subset_datasets=\"RNA\")"
   ]
  },
  {
   "cell_type": "markdown",
   "metadata": {},
   "source": [
    "# Shannon diversity of program usage by dataset"
   ]
  },
  {
   "cell_type": "code",
   "execution_count": null,
   "metadata": {},
   "outputs": [],
   "source": [
    "fig = cn.plot_sample_entropy(snsmap, colors)"
   ]
  }
 ],
 "metadata": {
  "kernelspec": {
   "display_name": "base",
   "language": "python",
   "name": "python3"
  },
  "language_info": {
   "codemirror_mode": {
    "name": "ipython",
    "version": 3
   },
   "file_extension": ".py",
   "mimetype": "text/x-python",
   "name": "python",
   "nbconvert_exporter": "python",
   "pygments_lexer": "ipython3",
   "version": "3.10.10"
  },
  "orig_nbformat": 4,
  "vscode": {
   "interpreter": {
    "hash": "9f2c27474c7abce15ce2de26253b3bc28b06f2c77c123d7ab6b2ed057829ac7d"
   }
  }
 },
 "nbformat": 4,
 "nbformat_minor": 2
}
